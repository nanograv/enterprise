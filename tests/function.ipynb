{
 "cells": [
  {
   "cell_type": "code",
   "execution_count": 1,
   "metadata": {
    "collapsed": false,
    "deletable": true,
    "editable": true
   },
   "outputs": [
    {
     "name": "stdout",
     "output_type": "stream",
     "text": [
      "Warning: cannot find astropy, units support will not be available.\n"
     ]
    }
   ],
   "source": [
    "from __future__ import division\n",
    "\n",
    "import numpy as np\n",
    "import inspect\n",
    "import functools\n",
    "import matplotlib.pyplot as plt\n",
    "\n",
    "from enterprise.pulsar import Pulsar\n",
    "import enterprise.signals.parameter as parameter\n",
    "from enterprise.signals import utils\n",
    "import enterprise.signals.signal_base as base\n",
    "from enterprise.signals import selections\n",
    "from enterprise.signals.selections import Selection\n",
    "from tests.enterprise_test_data import datadir\n",
    "from enterprise.signals import white_signals\n",
    "from enterprise.signals import gp_signals\n",
    "\n",
    "\n",
    "\n",
    "% matplotlib inline\n",
    "%config InlineBackend.figure_format = 'retina'"
   ]
  },
  {
   "cell_type": "code",
   "execution_count": 2,
   "metadata": {
    "collapsed": true,
    "deletable": true,
    "editable": true
   },
   "outputs": [],
   "source": [
    "psr = Pulsar(datadir+'/B1855+09_NANOGrav_11yv0.gls.par', datadir+'/B1855+09_NANOGrav_11yv0.tim')"
   ]
  },
  {
   "cell_type": "markdown",
   "metadata": {
    "deletable": true,
    "editable": true
   },
   "source": [
    "## Updated fourier design matrix and test function that has `Parameter`s"
   ]
  },
  {
   "cell_type": "code",
   "execution_count": 3,
   "metadata": {
    "collapsed": true,
    "deletable": true,
    "editable": true
   },
   "outputs": [],
   "source": [
    "def createfourierdesignmatrix_env(toas, log10_Amp=-7, log10_Q=np.log10(300), t0=4783728350.5632496, \n",
    "                                  nmodes=30, Tspan=None, logf=False, fmin=None, \n",
    "                                  fmax=None):\n",
    "\n",
    "\n",
    "    # get base fourier design matrix and frequencies\n",
    "    F, Ffreqs = utils.createfourierdesignmatrix_red(\n",
    "        toas, nmodes=nmodes, Tspan=Tspan, logf=logf,\n",
    "        fmin=fmin, fmax=fmax)\n",
    "\n",
    "    # compute gaussian envelope\n",
    "    A = 10**log10_Amp\n",
    "    Q = 10**log10_Q * 86400\n",
    "    env = A * np.exp(-(toas-t0)**2/2/Q**2)\n",
    "    return F, Ffreqs"
   ]
  },
  {
   "cell_type": "code",
   "execution_count": 16,
   "metadata": {
    "collapsed": false
   },
   "outputs": [],
   "source": [
    "pl = base.Function(utils.powerlaw, log10_A=parameter.Uniform(-18,-12), \n",
    "              gamma=parameter.Uniform(0, 7))\n",
    "basis_env = base.Function(createfourierdesignmatrix_env)\n",
    "basis_red = base.Function(utils.createfourierdesignmatrix_red)\n",
    "basis_red2 = base.Function(utils.createfourierdesignmatrix_red, nmodes=50)\n",
    "selection = Selection(selections.by_backend)\n",
    "\n",
    "rn = gp_signals.BasisGP(pl, basis_env, name='env')\n",
    "rn2 = gp_signals.BasisGP(pl, basis_red)\n",
    "rn3 = gp_signals.BasisGP(pl, basis_red2, name='red2')\n",
    "wn = white_signals.MeasurementNoise()\n",
    "m = (rn + wn + rn2 + rn3)(psr)"
   ]
  },
  {
   "cell_type": "code",
   "execution_count": 17,
   "metadata": {
    "collapsed": false
   },
   "outputs": [
    {
     "data": {
      "text/plain": [
       "[\"B1855+09_efac\":Uniform(0.5,1.5),\n",
       " \"B1855+09_env_gamma\":Uniform(0,7),\n",
       " \"B1855+09_env_log10_A\":Uniform(-18,-12),\n",
       " \"B1855+09_gamma\":Uniform(0,7),\n",
       " \"B1855+09_log10_A\":Uniform(-18,-12),\n",
       " \"B1855+09_red2_gamma\":Uniform(0,7),\n",
       " \"B1855+09_red2_log10_A\":Uniform(-18,-12)]"
      ]
     },
     "execution_count": 17,
     "metadata": {},
     "output_type": "execute_result"
    }
   ],
   "source": [
    "m.params"
   ]
  },
  {
   "cell_type": "code",
   "execution_count": 18,
   "metadata": {
    "collapsed": false
   },
   "outputs": [],
   "source": [
    "params = {'B1855+09_log10_A':-14, 'B1855+09_gamma':3.5, 'B1855+09_env_log10_Amp':-7}\n",
    "#Fmat = m.get_basis(params)\n",
    "phi = m.get_phi(params)"
   ]
  },
  {
   "cell_type": "code",
   "execution_count": 20,
   "metadata": {
    "collapsed": false
   },
   "outputs": [
    {
     "data": {
      "text/plain": [
       "(100,)"
      ]
     },
     "execution_count": 20,
     "metadata": {},
     "output_type": "execute_result"
    }
   ],
   "source": [
    "phi.shape"
   ]
  },
  {
   "cell_type": "markdown",
   "metadata": {
    "deletable": true,
    "editable": true
   },
   "source": [
    "## Test out the new method on a Fourier Basis signal with basis parameters"
   ]
  },
  {
   "cell_type": "code",
   "execution_count": 8,
   "metadata": {
    "collapsed": false,
    "deletable": true,
    "editable": true
   },
   "outputs": [
    {
     "ename": "NameError",
     "evalue": "name 'Function' is not defined",
     "output_type": "error",
     "traceback": [
      "\u001b[0;31m---------------------------------------------------------------------------\u001b[0m",
      "\u001b[0;31mNameError\u001b[0m                                 Traceback (most recent call last)",
      "\u001b[0;32m<ipython-input-8-d349fe5d4a4f>\u001b[0m in \u001b[0;36m<module>\u001b[0;34m()\u001b[0m\n\u001b[1;32m      1\u001b[0m \u001b[0;31m# set up powerlaw spectrum\u001b[0m\u001b[0;34m\u001b[0m\u001b[0;34m\u001b[0m\u001b[0m\n\u001b[0;32m----> 2\u001b[0;31m pl = Function(utils.powerlaw, log10_A=parameter.Uniform(-18,-12), \n\u001b[0m\u001b[1;32m      3\u001b[0m               gamma=parameter.Uniform(0, 7))\n\u001b[1;32m      4\u001b[0m \u001b[0;34m\u001b[0m\u001b[0m\n\u001b[1;32m      5\u001b[0m \u001b[0;31m# set up Gaussian envelope basis function\u001b[0m\u001b[0;34m\u001b[0m\u001b[0;34m\u001b[0m\u001b[0m\n",
      "\u001b[0;31mNameError\u001b[0m: name 'Function' is not defined"
     ]
    }
   ],
   "source": [
    "# set up powerlaw spectrum\n",
    "pl = Function(utils.powerlaw, log10_A=parameter.Uniform(-18,-12), \n",
    "              gamma=parameter.Uniform(0, 7))\n",
    "\n",
    "# set up Gaussian envelope basis function\n",
    "log10_Amp = parameter.Uniform(-10, -5)\n",
    "log10_Q = parameter.Uniform(np.log10(30), np.log10(3000))\n",
    "t0 = parameter.Uniform(psr.toas.min(), psr.toas.max())\n",
    "fourier_env = Function(createfourierdesignmatrix_env, \n",
    "                       t0=t0, log10_Amp=log10_Amp, log10_Q=log10_Q, \n",
    "                       nmodes=50)\n",
    "\n",
    "# make signal\n",
    "gp = BasisGP(pl, fourier_env, name='env')\n",
    "gpm = gp(psr)"
   ]
  },
  {
   "cell_type": "code",
   "execution_count": null,
   "metadata": {
    "collapsed": false,
    "deletable": true,
    "editable": true
   },
   "outputs": [],
   "source": [
    "gpm.params"
   ]
  },
  {
   "cell_type": "code",
   "execution_count": null,
   "metadata": {
    "collapsed": false,
    "deletable": true,
    "editable": true
   },
   "outputs": [],
   "source": [
    "# parameters\n",
    "params = {'B1855+09_env_log10_A': -15,\n",
    "          'B1855+09_env_gamma': 4.33,\n",
    "          'B1855+09_env_log10_Amp': -8,\n",
    "          'B1855+09_env_log10_Q': np.log10(300),\n",
    "          'B1855+09_env_t0': 4783728350.5632496}\n",
    "\n",
    "F = gpm.get_basis()\n",
    "phi = gpm.get_phi(params)"
   ]
  },
  {
   "cell_type": "code",
   "execution_count": null,
   "metadata": {
    "collapsed": false,
    "deletable": true,
    "editable": true
   },
   "outputs": [],
   "source": [
    "plt.plot(psr.toas, F[:,15])"
   ]
  },
  {
   "cell_type": "markdown",
   "metadata": {
    "deletable": true,
    "editable": true
   },
   "source": [
    "## Test out the new method with ECORR basis"
   ]
  },
  {
   "cell_type": "code",
   "execution_count": null,
   "metadata": {
    "collapsed": true,
    "deletable": true,
    "editable": true
   },
   "outputs": [],
   "source": [
    "# slightly modified quantization matrix\n",
    "def create_quantization_matrix(toas, dt=1, nmin=2):\n",
    "    \"\"\"Create quantization matrix mapping TOAs to observing epochs.\"\"\"\n",
    "    isort = np.argsort(toas)\n",
    "\n",
    "    bucket_ref = [toas[isort[0]]]\n",
    "    bucket_ind = [[isort[0]]]\n",
    "\n",
    "    for i in isort[1:]:\n",
    "        if toas[i] - bucket_ref[-1] < dt:\n",
    "            bucket_ind[-1].append(i)\n",
    "        else:\n",
    "            bucket_ref.append(toas[i])\n",
    "            bucket_ind.append([i])\n",
    "\n",
    "    # find only epochs with more than 1 TOA\n",
    "    bucket_ind2 = [ind for ind in bucket_ind if len(ind) >= nmin]\n",
    "\n",
    "    U = np.zeros((len(toas),len(bucket_ind2)),'d')\n",
    "    for i,l in enumerate(bucket_ind2):\n",
    "        U[l,i] = 1\n",
    "        \n",
    "    weights = np.ones(U.shape[1])\n",
    "\n",
    "    return U, weights\n",
    "\n",
    "# ecorr prior function\n",
    "def ecorr_basis_prior(weights, log10_ecorr=-8):\n",
    "    return weights * 10**(2*log10_ecorr)"
   ]
  },
  {
   "cell_type": "code",
   "execution_count": null,
   "metadata": {
    "collapsed": false,
    "deletable": true,
    "editable": true
   },
   "outputs": [],
   "source": [
    "basisFunction = Function(create_quantization_matrix)\n",
    "priorFunction = Function(ecorr_basis_prior, log10_ecorr=parameter.Uniform(-10, -5))\n",
    "selection = Selection(selections.by_backend)\n",
    "\n",
    "ec = BasisGP(priorFunction, basisFunction, selection=selection)\n",
    "ecm = ec(psr)"
   ]
  },
  {
   "cell_type": "code",
   "execution_count": null,
   "metadata": {
    "collapsed": false,
    "deletable": true,
    "editable": true
   },
   "outputs": [],
   "source": [
    "ecm.params"
   ]
  },
  {
   "cell_type": "code",
   "execution_count": null,
   "metadata": {
    "collapsed": false,
    "deletable": true,
    "editable": true
   },
   "outputs": [],
   "source": [
    "params = {'B1855+09_430_PUPPI_log10_ecorr': -7.2, \n",
    "          'B1855+09_L-wide_ASP_log10_ecorr': -8.2, \n",
    "          'B1855+09_430_ASP_log10_ecorr': -6.4, \n",
    "          'B1855+09_L-wide_PUPPI_log10_ecorr': -7}\n",
    "\n",
    "U = ecm.get_basis(params=params)\n",
    "phi = ecm.get_phi(params=params)"
   ]
  },
  {
   "cell_type": "code",
   "execution_count": null,
   "metadata": {
    "collapsed": true
   },
   "outputs": [],
   "source": []
  },
  {
   "cell_type": "code",
   "execution_count": null,
   "metadata": {
    "collapsed": false
   },
   "outputs": [],
   "source": [
    "phi"
   ]
  },
  {
   "cell_type": "code",
   "execution_count": null,
   "metadata": {
    "collapsed": true
   },
   "outputs": [],
   "source": []
  }
 ],
 "metadata": {
  "kernelspec": {
   "display_name": "Python 2",
   "language": "python",
   "name": "python2"
  },
  "language_info": {
   "codemirror_mode": {
    "name": "ipython",
    "version": 2
   },
   "file_extension": ".py",
   "mimetype": "text/x-python",
   "name": "python",
   "nbconvert_exporter": "python",
   "pygments_lexer": "ipython2",
   "version": "2.7.10"
  }
 },
 "nbformat": 4,
 "nbformat_minor": 2
}
