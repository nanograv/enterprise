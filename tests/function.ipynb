{
 "cells": [
  {
   "cell_type": "code",
   "execution_count": 69,
   "metadata": {
    "collapsed": false,
    "deletable": true,
    "editable": true
   },
   "outputs": [],
   "source": [
    "from __future__ import division\n",
    "\n",
    "import numpy as np\n",
    "import inspect\n",
    "import functools\n",
    "import matplotlib.pyplot as plt\n",
    "\n",
    "from enterprise.pulsar import Pulsar\n",
    "import enterprise.signals.parameter as parameter\n",
    "from enterprise.signals import utils\n",
    "import enterprise.signals.signal_base as base\n",
    "from enterprise.signals import selections\n",
    "from enterprise.signals.selections import Selection\n",
    "from tests.enterprise_test_data import datadir\n",
    "\n",
    "% matplotlib inline\n",
    "%config InlineBackend.figure_format = 'retina'"
   ]
  },
  {
   "cell_type": "code",
   "execution_count": 11,
   "metadata": {
    "collapsed": true,
    "deletable": true,
    "editable": true
   },
   "outputs": [],
   "source": [
    "psr = Pulsar(datadir+'/B1855+09_NANOGrav_11yv0.gls.par', datadir+'/B1855+09_NANOGrav_11yv0.tim')"
   ]
  },
  {
   "cell_type": "markdown",
   "metadata": {
    "deletable": true,
    "editable": true
   },
   "source": [
    "## Updated fourier design matrix and test function that has `Parameter`s"
   ]
  },
  {
   "cell_type": "code",
   "execution_count": 337,
   "metadata": {
    "collapsed": true,
    "deletable": true,
    "editable": true
   },
   "outputs": [],
   "source": [
    "def createfourierdesignmatrix_red(toas, nmodes=30, Tspan=None,\n",
    "                                  logf=False, fmin=None, fmax=None,\n",
    "                                  pshift=False):\n",
    "    \"\"\"\n",
    "    Construct fourier design matrix from eq 11 of Lentati et al, 2013\n",
    "\n",
    "    :param toas: vector of time series in seconds\n",
    "    :param nmodes: number of fourier coefficients to use\n",
    "    :param freq: option to output frequencies\n",
    "    :param Tspan: option to some other Tspan\n",
    "    :param logf: use log frequency spacing\n",
    "    :param fmin: lower sampling frequency\n",
    "    :param fmax: upper sampling frequency\n",
    "    :param pshift: option to add random phase shift\n",
    "\n",
    "    :return: F: fourier design matrix\n",
    "    :return: f: Sampling frequencies\n",
    "    \"\"\"\n",
    "\n",
    "    N = len(toas)\n",
    "    F = np.zeros((N, 2 * nmodes))\n",
    "\n",
    "    T = Tspan if Tspan is not None else toas.max() - toas.min()\n",
    "\n",
    "    # define sampling frequencies\n",
    "    if fmin is None:\n",
    "        fmin = 1 / T\n",
    "    if fmax is None:\n",
    "        fmax = nmodes / T\n",
    "\n",
    "    if logf:\n",
    "        f = np.logspace(np.log10(fmin), np.log10(fmax), nmodes)\n",
    "    else:\n",
    "        f = np.linspace(fmin, fmax, nmodes)\n",
    "\n",
    "    # add random phase shift to basis functions\n",
    "    ranphase = (np.random.uniform(0.0, 2 * np.pi, nmodes)\n",
    "                if pshift else np.zeros(nmodes))\n",
    "\n",
    "    Ffreqs = np.repeat(f, 2)\n",
    "\n",
    "    # The sine/cosine modes\n",
    "    F[:,::2] = np.sin(2*np.pi*toas[:,None]*f[None,:] +\n",
    "                      ranphase[None,:])\n",
    "    F[:,1::2] = np.cos(2*np.pi*toas[:,None]*f[None,:] +\n",
    "                       ranphase[None,:])\n",
    "\n",
    "    return F, Ffreqs\n",
    "\n",
    "\n",
    "def createfourierdesignmatrix_env(toas, log10_Amp=-7, log10_Q=np.log10(300), t0=4783728350.5632496, \n",
    "                                  nmodes=30, Tspan=None, logf=False, fmin=None, \n",
    "                                  fmax=None):\n",
    "\n",
    "\n",
    "    # get base fourier design matrix and frequencies\n",
    "    F, Ffreqs = createfourierdesignmatrix_red(\n",
    "        toas, nmodes=nmodes, Tspan=Tspan, logf=logf,\n",
    "        fmin=fmin, fmax=fmax)\n",
    "\n",
    "    # compute gaussian envelope\n",
    "    A = 10**log10_Amp\n",
    "    Q = 10**log10_Q * 86400\n",
    "    env = A * np.exp(-(toas-t0)**2/2/Q**2)\n",
    "    return F * env[:, None], Ffreqs"
   ]
  },
  {
   "cell_type": "markdown",
   "metadata": {},
   "source": [
    "## Slightly updated selection function\n",
    "\n",
    "Can now take positional and keyword arguments"
   ]
  },
  {
   "cell_type": "code",
   "execution_count": 338,
   "metadata": {
    "collapsed": true,
    "deletable": true,
    "editable": true
   },
   "outputs": [],
   "source": [
    "def call_me_maybe(obj):\n",
    "    \"\"\"See `here`_ for description.\n",
    "\n",
    "    .. _here: https://www.youtube.com/watch?v=fWNaR-rxAic\n",
    "    \"\"\"\n",
    "    return obj() if hasattr(obj, '__call__') else obj\n",
    "\n",
    "def selection_func(func):\n",
    "    funcargs = inspect.getargspec(func).args\n",
    "        \n",
    "    @functools.wraps(func)\n",
    "    def wrapper(*args, **kwargs):\n",
    "        targs = list(args)\n",
    "        \n",
    "        # check for mask\n",
    "        mask = kwargs.get('mask', Ellipsis)\n",
    "        if 'mask' in kwargs:\n",
    "            del kwargs['mask']\n",
    "\n",
    "        if len(targs) < len(funcargs) and 'psr' in kwargs:\n",
    "            psr = kwargs['psr']\n",
    "            \n",
    "            for funcarg in funcargs[len(args):]:\n",
    "                if funcarg not in kwargs and hasattr(psr, funcarg):\n",
    "                    targs.append(call_me_maybe(getattr(psr, funcarg))[mask])\n",
    "        \n",
    "        if 'psr' in kwargs and 'psr' not in funcargs:\n",
    "            del kwargs['psr']\n",
    "\n",
    "        return func(*targs, **kwargs)\n",
    "\n",
    "    return wrapper"
   ]
  },
  {
   "cell_type": "markdown",
   "metadata": {},
   "source": [
    "## New `Function` factory with selection-like functionality"
   ]
  },
  {
   "cell_type": "code",
   "execution_count": 339,
   "metadata": {
    "collapsed": false,
    "deletable": true,
    "editable": true
   },
   "outputs": [],
   "source": [
    "def Function(func, name='', **func_kwargs):\n",
    "    fname = name\n",
    "    \n",
    "    class Function(object):\n",
    "        def __init__(self, name, psr=None):\n",
    "            self._func = selection_func(func)\n",
    "            self._psr = psr\n",
    "            \n",
    "            self._params = {}\n",
    "            self._defaults = {}\n",
    "\n",
    "            # divide keyword parameters into those that are Parameter classes,\n",
    "            # Parameter instances (useful for global parameters),\n",
    "            # and something else (which we will assume is a value)\n",
    "            for kw, arg in func_kwargs.items():\n",
    "                if isinstance(arg, type) and issubclass(arg, (parameter.Parameter, parameter.ConstantParameter)):\n",
    "                    # parameter name template\n",
    "                    # pname_[signalname_][fname_]parname\n",
    "                    par = arg(name + '_' + ((fname + '_') if fname else '') + kw)\n",
    "                    self._params[kw] = par\n",
    "                elif isinstance(arg, (parameter.Parameter, parameter.ConstantParameter)):\n",
    "                    self._params[kw] = arg\n",
    "                else:\n",
    "                    # we could also extract the value from parameter.ConstantParameter and store it here...\n",
    "                    self._defaults[kw] = arg\n",
    "        def __call__(self, *args, **kwargs):\n",
    "            # order of parameter resolution:\n",
    "            # - parameter given in kwargs\n",
    "            # - named sampling parameter in self._params, if given in params dict\n",
    "            #   or if it has a value\n",
    "            # - parameter given as constant in Function definition\n",
    "            # - default value for keyword parameter in func definition\n",
    "            \n",
    "            # trick to get positional arguments before params kwarg\n",
    "            params = kwargs.get('params',{})\n",
    "            if 'params' in kwargs:\n",
    "                del kwargs['params']\n",
    "\n",
    "            for kw, arg in func_kwargs.items():\n",
    "                if kw not in kwargs and kw in self._params:\n",
    "                    par = self._params[kw]\n",
    "                    \n",
    "                    if par.name in params:\n",
    "                        kwargs[kw] = params[par.name]\n",
    "                    elif hasattr(par, 'value'):\n",
    "                        kwargs[kw] = par.value\n",
    "\n",
    "            for kw, arg in self._defaults.items():\n",
    "                if kw not in kwargs:\n",
    "                    kwargs[kw] = arg\n",
    "            \n",
    "            if self._psr is not None and 'psr' not in kwargs:\n",
    "                kwargs['psr'] = self._psr\n",
    "            \n",
    "            return self._func(*args, **kwargs)\n",
    "                \n",
    "        @property\n",
    "        def params(self):\n",
    "            # if we extract the ConstantParameter value above, we would not\n",
    "            # need a special case here\n",
    "            return [par for par in self._params.values() if not\n",
    "                    isinstance(par, parameter.ConstantParameter)]\n",
    "    \n",
    "    return Function"
   ]
  },
  {
   "cell_type": "markdown",
   "metadata": {},
   "source": [
    "## BasisGP factory"
   ]
  },
  {
   "cell_type": "code",
   "execution_count": 340,
   "metadata": {
    "collapsed": false
   },
   "outputs": [],
   "source": [
    "def BasisGP(priorFunction, basisFunction, \n",
    "            selection=Selection(selections.no_selection),\n",
    "            name=''):\n",
    "    \n",
    "    class BasisGP(base.Signal):\n",
    "        signal_type = 'basis'\n",
    "        signal_name = name\n",
    "        \n",
    "        def __init__(self, psr):\n",
    "            \n",
    "            self._do_selection(psr, priorFunction, basisFunction, selection)      \n",
    "        \n",
    "        def _do_selection(self, psr, priorfn, basisfn, selection):\n",
    "            \n",
    "            sel = selection(psr)\n",
    "            self._keys = list(sorted(sel.masks.keys()))\n",
    "            self._masks = [sel.masks[key] for key in self._keys]\n",
    "            self._prior, self._bases, self._params = {}, {}, {}\n",
    "            for key, mask in zip(self._keys, self._masks):\n",
    "                pnames = [psr.name, name, key]\n",
    "                pname = '_'.join([n for n in pnames if n])\n",
    "                self._prior[key] = priorfn(pname, psr=psr)\n",
    "                self._bases[key] = basisfn(pname, psr=psr)\n",
    "                params = sum([self._prior[key].params, self._bases[key].params],[])\n",
    "                for param in params:\n",
    "                    self._params[param.name] = param\n",
    "                    \n",
    "        def _construct_basis(self, params={}):\n",
    "            \n",
    "            basis, self._labels = {}, {}\n",
    "            for key, mask in zip(self._keys, self._masks):\n",
    "                basis[key], self._labels[key] = self._bases[key](params=params, mask=mask)\n",
    "                    \n",
    "            nc = np.sum(F.shape[1] for F in basis.values())\n",
    "            self._basis = np.zeros((len(self._masks[0]), nc))\n",
    "            self._phi = np.zeros(nc)\n",
    "            self._slices = {}\n",
    "            nctot = 0\n",
    "            for key, mask in zip(self._keys, self._masks):\n",
    "                Fmat = basis[key]\n",
    "                nn = Fmat.shape[1]\n",
    "                self._basis[mask, nctot:nn+nctot] = Fmat\n",
    "                self._slices.update({key: slice(nctot, nn+nctot)})\n",
    "                nctot += nn\n",
    "        \n",
    "        def get_basis(self, params={}):\n",
    "            self._construct_basis(params)\n",
    "            return self._basis   \n",
    "\n",
    "        def get_phi(self, params):\n",
    "            for key, slc in self._slices.items():\n",
    "                self._phi[slc] = self._prior[key](self._labels[key], params=params) * self._labels[key][0]\n",
    "            return self._phi\n",
    "\n",
    "        def get_phiinv(self, params):\n",
    "            return 1 / self.get_phi(params)\n",
    "    \n",
    "    return BasisGP"
   ]
  },
  {
   "cell_type": "markdown",
   "metadata": {},
   "source": [
    "## Test out the new method on a Fourier Basis signal with basis parameters"
   ]
  },
  {
   "cell_type": "code",
   "execution_count": 341,
   "metadata": {
    "collapsed": false,
    "deletable": true,
    "editable": true
   },
   "outputs": [],
   "source": [
    "# set up powerlaw spectrum\n",
    "pl = Function(utils.powerlaw, log10_A=parameter.Uniform(-18,-12), \n",
    "              gamma=parameter.Uniform(0, 7))\n",
    "\n",
    "# set up Gaussian envelope basis function\n",
    "log10_Amp = parameter.Uniform(-10, -5)\n",
    "log10_Q = parameter.Uniform(np.log10(30), np.log10(3000))\n",
    "t0 = parameter.Uniform(psr.toas.min(), psr.toas.max())\n",
    "fourier_env = Function(createfourierdesignmatrix_env, \n",
    "                       t0=t0, log10_Amp=log10_Amp, log10_Q=log10_Q, \n",
    "                       nmodes=50)\n",
    "\n",
    "# make signal\n",
    "gp = BasisGP(pl, fourier_env, name='')\n",
    "gpm = gp(psr)"
   ]
  },
  {
   "cell_type": "code",
   "execution_count": 342,
   "metadata": {
    "collapsed": false,
    "deletable": true,
    "editable": true
   },
   "outputs": [
    {
     "data": {
      "text/plain": [
       "[\"B1855+09_t0\":Uniform(4610193724.96,4957262976.17),\n",
       " \"B1855+09_log10_A\":Uniform(-18,-12),\n",
       " \"B1855+09_log10_Q\":Uniform(1.47712125472,3.47712125472),\n",
       " \"B1855+09_log10_Amp\":Uniform(-10,-5),\n",
       " \"B1855+09_gamma\":Uniform(0,7)]"
      ]
     },
     "execution_count": 342,
     "metadata": {},
     "output_type": "execute_result"
    }
   ],
   "source": [
    "gpm.params"
   ]
  },
  {
   "cell_type": "code",
   "execution_count": 343,
   "metadata": {
    "collapsed": false,
    "deletable": true,
    "editable": true
   },
   "outputs": [],
   "source": [
    "# parameters\n",
    "params = {'B1855+09_env_log10_A': -15,\n",
    "          'B1855+09_env_gamma': 4.33,\n",
    "          'B1855+09_env_log10_Amp': -8,\n",
    "          'B1855+09_env_log10_Q': np.log10(300),\n",
    "          'B1855+09_env_t0': 4783728350.5632496}\n",
    "\n",
    "F = gpm.get_basis(params)\n",
    "phi = gpm.get_phi(params)"
   ]
  },
  {
   "cell_type": "code",
   "execution_count": 344,
   "metadata": {
    "collapsed": false,
    "deletable": true,
    "editable": true
   },
   "outputs": [
    {
     "data": {
      "text/plain": [
       "[<matplotlib.lines.Line2D at 0x114904250>]"
      ]
     },
     "execution_count": 344,
     "metadata": {},
     "output_type": "execute_result"
    },
    {
     "data": {
      "image/png": "[encoded data removed]",
      "text/plain": [
       "<matplotlib.figure.Figure at 0x11af62a10>"
      ]
     },
     "metadata": {
      "image/png": {
       "height": 271,
       "width": 388
      }
     },
     "output_type": "display_data"
    }
   ],
   "source": [
    "plt.plot(psr.toas, F[:,15])"
   ]
  },
  {
   "cell_type": "markdown",
   "metadata": {},
   "source": [
    "## Test out the new method with ECORR basis"
   ]
  },
  {
   "cell_type": "code",
   "execution_count": 345,
   "metadata": {
    "collapsed": true
   },
   "outputs": [],
   "source": [
    "# slightly modified quantization matrix\n",
    "def create_quantization_matrix(toas, dt=1, nmin=2):\n",
    "    \"\"\"Create quantization matrix mapping TOAs to observing epochs.\"\"\"\n",
    "    isort = np.argsort(toas)\n",
    "\n",
    "    bucket_ref = [toas[isort[0]]]\n",
    "    bucket_ind = [[isort[0]]]\n",
    "\n",
    "    for i in isort[1:]:\n",
    "        if toas[i] - bucket_ref[-1] < dt:\n",
    "            bucket_ind[-1].append(i)\n",
    "        else:\n",
    "            bucket_ref.append(toas[i])\n",
    "            bucket_ind.append([i])\n",
    "\n",
    "    # find only epochs with more than 1 TOA\n",
    "    bucket_ind2 = [ind for ind in bucket_ind if len(ind) >= nmin]\n",
    "\n",
    "    U = np.zeros((len(toas),len(bucket_ind2)),'d')\n",
    "    for i,l in enumerate(bucket_ind2):\n",
    "        U[l,i] = 1\n",
    "        \n",
    "    weights = np.ones(U.shape[1])\n",
    "\n",
    "    return U, weights\n",
    "\n",
    "# ecorr prior function\n",
    "def ecorr_basis_prior(weights, log10_ecorr=-8):\n",
    "    return weights * 10**(2*log10_ecorr)"
   ]
  },
  {
   "cell_type": "code",
   "execution_count": 346,
   "metadata": {
    "collapsed": false
   },
   "outputs": [],
   "source": [
    "basisFunction = Function(create_quantization_matrix)\n",
    "priorFunction = Function(ecorr_basis_prior, log10_ecorr=parameter.Uniform(-10, -5))\n",
    "selection = Selection(selections.by_backend)\n",
    "\n",
    "ec = BasisGP(priorFunction, basisFunction, selection=selection)\n",
    "ecm = ec(psr)"
   ]
  },
  {
   "cell_type": "code",
   "execution_count": 347,
   "metadata": {
    "collapsed": false
   },
   "outputs": [
    {
     "data": {
      "text/plain": [
       "[\"B1855+09_430_PUPPI_log10_ecorr\":Uniform(-10,-5),\n",
       " \"B1855+09_L-wide_ASP_log10_ecorr\":Uniform(-10,-5),\n",
       " \"B1855+09_430_ASP_log10_ecorr\":Uniform(-10,-5),\n",
       " \"B1855+09_L-wide_PUPPI_log10_ecorr\":Uniform(-10,-5)]"
      ]
     },
     "execution_count": 347,
     "metadata": {},
     "output_type": "execute_result"
    }
   ],
   "source": [
    "ecm.params"
   ]
  },
  {
   "cell_type": "code",
   "execution_count": 348,
   "metadata": {
    "collapsed": false
   },
   "outputs": [],
   "source": [
    "params = {'B1855+09_430_PUPPI_log10_ecorr': -7.2, \n",
    "          'B1855+09_L-wide_ASP_log10_ecorr': -8.2, \n",
    "          'B1855+09_430_ASP_log10_ecorr': -6.4, \n",
    "          'B1855+09_L-wide_PUPPI_log10_ecorr': -7}\n",
    "\n",
    "U = ecm.get_basis(params=params)\n",
    "phi = ecm.get_phi(params=params)"
   ]
  },
  {
   "cell_type": "code",
   "execution_count": null,
   "metadata": {
    "collapsed": true
   },
   "outputs": [],
   "source": []
  },
  {
   "cell_type": "code",
   "execution_count": null,
   "metadata": {
    "collapsed": true
   },
   "outputs": [],
   "source": []
  }
 ],
 "metadata": {
  "kernelspec": {
   "display_name": "Python 2",
   "language": "python",
   "name": "python2"
  },
  "language_info": {
   "codemirror_mode": {
    "name": "ipython",
    "version": 2
   },
   "file_extension": ".py",
   "mimetype": "text/x-python",
   "name": "python",
   "nbconvert_exporter": "python",
   "pygments_lexer": "ipython2",
   "version": "2.7.10"
  }
 },
 "nbformat": 4,
 "nbformat_minor": 2
}
